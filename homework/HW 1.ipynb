{
 "cells": [
  {
   "cell_type": "markdown",
   "id": "5ed2fa15-f9a0-41df-8b59-c782c170a02d",
   "metadata": {},
   "source": [
    "Question 1: Create a line chart to visualize the distribution of the 'capitalLong' feature."
   ]
  },
  {
   "cell_type": "code",
   "execution_count": 59,
   "id": "032df2a3-4fea-43c0-ab4a-ff020f744d0e",
   "metadata": {},
   "outputs": [],
   "source": [
    "import pandas as pd"
   ]
  },
  {
   "cell_type": "code",
   "execution_count": 60,
   "id": "2df152be-5061-4ab0-abdb-7fc1036510d7",
   "metadata": {},
   "outputs": [],
   "source": [
    "data = pd.read_csv('spambase(2).csv')"
   ]
  },
  {
   "cell_type": "code",
   "execution_count": 61,
   "id": "eb58e2b5-d2ee-440d-aa75-1e9ef4ced38d",
   "metadata": {},
   "outputs": [
    {
     "data": {
      "text/html": [
       "<div>\n",
       "<style scoped>\n",
       "    .dataframe tbody tr th:only-of-type {\n",
       "        vertical-align: middle;\n",
       "    }\n",
       "\n",
       "    .dataframe tbody tr th {\n",
       "        vertical-align: top;\n",
       "    }\n",
       "\n",
       "    .dataframe thead th {\n",
       "        text-align: right;\n",
       "    }\n",
       "</style>\n",
       "<table border=\"1\" class=\"dataframe\">\n",
       "  <thead>\n",
       "    <tr style=\"text-align: right;\">\n",
       "      <th></th>\n",
       "      <th>make</th>\n",
       "      <th>address</th>\n",
       "      <th>all</th>\n",
       "      <th>num3d</th>\n",
       "      <th>our</th>\n",
       "      <th>over</th>\n",
       "      <th>remove</th>\n",
       "      <th>internet</th>\n",
       "      <th>order</th>\n",
       "      <th>mail</th>\n",
       "      <th>...</th>\n",
       "      <th>charSemicolon</th>\n",
       "      <th>charRoundbracket</th>\n",
       "      <th>charSquarebracket</th>\n",
       "      <th>charExclamation</th>\n",
       "      <th>charDollar</th>\n",
       "      <th>charHash</th>\n",
       "      <th>capitalAve</th>\n",
       "      <th>capitalLong</th>\n",
       "      <th>capitalTotal</th>\n",
       "      <th>type</th>\n",
       "    </tr>\n",
       "  </thead>\n",
       "  <tbody>\n",
       "    <tr>\n",
       "      <th>0</th>\n",
       "      <td>0.00</td>\n",
       "      <td>0.64</td>\n",
       "      <td>0.64</td>\n",
       "      <td>0.0</td>\n",
       "      <td>0.32</td>\n",
       "      <td>0.00</td>\n",
       "      <td>0.00</td>\n",
       "      <td>0.00</td>\n",
       "      <td>0.00</td>\n",
       "      <td>0.00</td>\n",
       "      <td>...</td>\n",
       "      <td>0.000</td>\n",
       "      <td>0.000</td>\n",
       "      <td>0.0</td>\n",
       "      <td>0.778</td>\n",
       "      <td>0.000</td>\n",
       "      <td>0.000</td>\n",
       "      <td>3.756</td>\n",
       "      <td>61</td>\n",
       "      <td>278</td>\n",
       "      <td>spam</td>\n",
       "    </tr>\n",
       "    <tr>\n",
       "      <th>1</th>\n",
       "      <td>0.21</td>\n",
       "      <td>0.28</td>\n",
       "      <td>0.50</td>\n",
       "      <td>0.0</td>\n",
       "      <td>0.14</td>\n",
       "      <td>0.28</td>\n",
       "      <td>0.21</td>\n",
       "      <td>0.07</td>\n",
       "      <td>0.00</td>\n",
       "      <td>0.94</td>\n",
       "      <td>...</td>\n",
       "      <td>0.000</td>\n",
       "      <td>0.132</td>\n",
       "      <td>0.0</td>\n",
       "      <td>0.372</td>\n",
       "      <td>0.180</td>\n",
       "      <td>0.048</td>\n",
       "      <td>5.114</td>\n",
       "      <td>101</td>\n",
       "      <td>1028</td>\n",
       "      <td>spam</td>\n",
       "    </tr>\n",
       "    <tr>\n",
       "      <th>2</th>\n",
       "      <td>0.06</td>\n",
       "      <td>0.00</td>\n",
       "      <td>0.71</td>\n",
       "      <td>0.0</td>\n",
       "      <td>1.23</td>\n",
       "      <td>0.19</td>\n",
       "      <td>0.19</td>\n",
       "      <td>0.12</td>\n",
       "      <td>0.64</td>\n",
       "      <td>0.25</td>\n",
       "      <td>...</td>\n",
       "      <td>0.010</td>\n",
       "      <td>0.143</td>\n",
       "      <td>0.0</td>\n",
       "      <td>0.276</td>\n",
       "      <td>0.184</td>\n",
       "      <td>0.010</td>\n",
       "      <td>9.821</td>\n",
       "      <td>485</td>\n",
       "      <td>2259</td>\n",
       "      <td>spam</td>\n",
       "    </tr>\n",
       "    <tr>\n",
       "      <th>3</th>\n",
       "      <td>0.00</td>\n",
       "      <td>0.00</td>\n",
       "      <td>0.00</td>\n",
       "      <td>0.0</td>\n",
       "      <td>0.63</td>\n",
       "      <td>0.00</td>\n",
       "      <td>0.31</td>\n",
       "      <td>0.63</td>\n",
       "      <td>0.31</td>\n",
       "      <td>0.63</td>\n",
       "      <td>...</td>\n",
       "      <td>0.000</td>\n",
       "      <td>0.137</td>\n",
       "      <td>0.0</td>\n",
       "      <td>0.137</td>\n",
       "      <td>0.000</td>\n",
       "      <td>0.000</td>\n",
       "      <td>3.537</td>\n",
       "      <td>40</td>\n",
       "      <td>191</td>\n",
       "      <td>spam</td>\n",
       "    </tr>\n",
       "    <tr>\n",
       "      <th>4</th>\n",
       "      <td>0.00</td>\n",
       "      <td>0.00</td>\n",
       "      <td>0.00</td>\n",
       "      <td>0.0</td>\n",
       "      <td>0.63</td>\n",
       "      <td>0.00</td>\n",
       "      <td>0.31</td>\n",
       "      <td>0.63</td>\n",
       "      <td>0.31</td>\n",
       "      <td>0.63</td>\n",
       "      <td>...</td>\n",
       "      <td>0.000</td>\n",
       "      <td>0.135</td>\n",
       "      <td>0.0</td>\n",
       "      <td>0.135</td>\n",
       "      <td>0.000</td>\n",
       "      <td>0.000</td>\n",
       "      <td>3.537</td>\n",
       "      <td>40</td>\n",
       "      <td>191</td>\n",
       "      <td>spam</td>\n",
       "    </tr>\n",
       "    <tr>\n",
       "      <th>...</th>\n",
       "      <td>...</td>\n",
       "      <td>...</td>\n",
       "      <td>...</td>\n",
       "      <td>...</td>\n",
       "      <td>...</td>\n",
       "      <td>...</td>\n",
       "      <td>...</td>\n",
       "      <td>...</td>\n",
       "      <td>...</td>\n",
       "      <td>...</td>\n",
       "      <td>...</td>\n",
       "      <td>...</td>\n",
       "      <td>...</td>\n",
       "      <td>...</td>\n",
       "      <td>...</td>\n",
       "      <td>...</td>\n",
       "      <td>...</td>\n",
       "      <td>...</td>\n",
       "      <td>...</td>\n",
       "      <td>...</td>\n",
       "      <td>...</td>\n",
       "    </tr>\n",
       "    <tr>\n",
       "      <th>4596</th>\n",
       "      <td>0.31</td>\n",
       "      <td>0.00</td>\n",
       "      <td>0.62</td>\n",
       "      <td>0.0</td>\n",
       "      <td>0.00</td>\n",
       "      <td>0.31</td>\n",
       "      <td>0.00</td>\n",
       "      <td>0.00</td>\n",
       "      <td>0.00</td>\n",
       "      <td>0.00</td>\n",
       "      <td>...</td>\n",
       "      <td>0.000</td>\n",
       "      <td>0.232</td>\n",
       "      <td>0.0</td>\n",
       "      <td>0.000</td>\n",
       "      <td>0.000</td>\n",
       "      <td>0.000</td>\n",
       "      <td>1.142</td>\n",
       "      <td>3</td>\n",
       "      <td>88</td>\n",
       "      <td>nonspam</td>\n",
       "    </tr>\n",
       "    <tr>\n",
       "      <th>4597</th>\n",
       "      <td>0.00</td>\n",
       "      <td>0.00</td>\n",
       "      <td>0.00</td>\n",
       "      <td>0.0</td>\n",
       "      <td>0.00</td>\n",
       "      <td>0.00</td>\n",
       "      <td>0.00</td>\n",
       "      <td>0.00</td>\n",
       "      <td>0.00</td>\n",
       "      <td>0.00</td>\n",
       "      <td>...</td>\n",
       "      <td>0.000</td>\n",
       "      <td>0.000</td>\n",
       "      <td>0.0</td>\n",
       "      <td>0.353</td>\n",
       "      <td>0.000</td>\n",
       "      <td>0.000</td>\n",
       "      <td>1.555</td>\n",
       "      <td>4</td>\n",
       "      <td>14</td>\n",
       "      <td>nonspam</td>\n",
       "    </tr>\n",
       "    <tr>\n",
       "      <th>4598</th>\n",
       "      <td>0.30</td>\n",
       "      <td>0.00</td>\n",
       "      <td>0.30</td>\n",
       "      <td>0.0</td>\n",
       "      <td>0.00</td>\n",
       "      <td>0.00</td>\n",
       "      <td>0.00</td>\n",
       "      <td>0.00</td>\n",
       "      <td>0.00</td>\n",
       "      <td>0.00</td>\n",
       "      <td>...</td>\n",
       "      <td>0.102</td>\n",
       "      <td>0.718</td>\n",
       "      <td>0.0</td>\n",
       "      <td>0.000</td>\n",
       "      <td>0.000</td>\n",
       "      <td>0.000</td>\n",
       "      <td>1.404</td>\n",
       "      <td>6</td>\n",
       "      <td>118</td>\n",
       "      <td>nonspam</td>\n",
       "    </tr>\n",
       "    <tr>\n",
       "      <th>4599</th>\n",
       "      <td>0.96</td>\n",
       "      <td>0.00</td>\n",
       "      <td>0.00</td>\n",
       "      <td>0.0</td>\n",
       "      <td>0.32</td>\n",
       "      <td>0.00</td>\n",
       "      <td>0.00</td>\n",
       "      <td>0.00</td>\n",
       "      <td>0.00</td>\n",
       "      <td>0.00</td>\n",
       "      <td>...</td>\n",
       "      <td>0.000</td>\n",
       "      <td>0.057</td>\n",
       "      <td>0.0</td>\n",
       "      <td>0.000</td>\n",
       "      <td>0.000</td>\n",
       "      <td>0.000</td>\n",
       "      <td>1.147</td>\n",
       "      <td>5</td>\n",
       "      <td>78</td>\n",
       "      <td>nonspam</td>\n",
       "    </tr>\n",
       "    <tr>\n",
       "      <th>4600</th>\n",
       "      <td>0.00</td>\n",
       "      <td>0.00</td>\n",
       "      <td>0.65</td>\n",
       "      <td>0.0</td>\n",
       "      <td>0.00</td>\n",
       "      <td>0.00</td>\n",
       "      <td>0.00</td>\n",
       "      <td>0.00</td>\n",
       "      <td>0.00</td>\n",
       "      <td>0.00</td>\n",
       "      <td>...</td>\n",
       "      <td>0.000</td>\n",
       "      <td>0.000</td>\n",
       "      <td>0.0</td>\n",
       "      <td>0.125</td>\n",
       "      <td>0.000</td>\n",
       "      <td>0.000</td>\n",
       "      <td>1.250</td>\n",
       "      <td>5</td>\n",
       "      <td>40</td>\n",
       "      <td>nonspam</td>\n",
       "    </tr>\n",
       "  </tbody>\n",
       "</table>\n",
       "<p>4601 rows × 58 columns</p>\n",
       "</div>"
      ],
      "text/plain": [
       "      make  address   all  num3d   our  over  remove  internet  order  mail  \\\n",
       "0     0.00     0.64  0.64    0.0  0.32  0.00    0.00      0.00   0.00  0.00   \n",
       "1     0.21     0.28  0.50    0.0  0.14  0.28    0.21      0.07   0.00  0.94   \n",
       "2     0.06     0.00  0.71    0.0  1.23  0.19    0.19      0.12   0.64  0.25   \n",
       "3     0.00     0.00  0.00    0.0  0.63  0.00    0.31      0.63   0.31  0.63   \n",
       "4     0.00     0.00  0.00    0.0  0.63  0.00    0.31      0.63   0.31  0.63   \n",
       "...    ...      ...   ...    ...   ...   ...     ...       ...    ...   ...   \n",
       "4596  0.31     0.00  0.62    0.0  0.00  0.31    0.00      0.00   0.00  0.00   \n",
       "4597  0.00     0.00  0.00    0.0  0.00  0.00    0.00      0.00   0.00  0.00   \n",
       "4598  0.30     0.00  0.30    0.0  0.00  0.00    0.00      0.00   0.00  0.00   \n",
       "4599  0.96     0.00  0.00    0.0  0.32  0.00    0.00      0.00   0.00  0.00   \n",
       "4600  0.00     0.00  0.65    0.0  0.00  0.00    0.00      0.00   0.00  0.00   \n",
       "\n",
       "      ...  charSemicolon  charRoundbracket  charSquarebracket  \\\n",
       "0     ...          0.000             0.000                0.0   \n",
       "1     ...          0.000             0.132                0.0   \n",
       "2     ...          0.010             0.143                0.0   \n",
       "3     ...          0.000             0.137                0.0   \n",
       "4     ...          0.000             0.135                0.0   \n",
       "...   ...            ...               ...                ...   \n",
       "4596  ...          0.000             0.232                0.0   \n",
       "4597  ...          0.000             0.000                0.0   \n",
       "4598  ...          0.102             0.718                0.0   \n",
       "4599  ...          0.000             0.057                0.0   \n",
       "4600  ...          0.000             0.000                0.0   \n",
       "\n",
       "      charExclamation  charDollar  charHash  capitalAve  capitalLong  \\\n",
       "0               0.778       0.000     0.000       3.756           61   \n",
       "1               0.372       0.180     0.048       5.114          101   \n",
       "2               0.276       0.184     0.010       9.821          485   \n",
       "3               0.137       0.000     0.000       3.537           40   \n",
       "4               0.135       0.000     0.000       3.537           40   \n",
       "...               ...         ...       ...         ...          ...   \n",
       "4596            0.000       0.000     0.000       1.142            3   \n",
       "4597            0.353       0.000     0.000       1.555            4   \n",
       "4598            0.000       0.000     0.000       1.404            6   \n",
       "4599            0.000       0.000     0.000       1.147            5   \n",
       "4600            0.125       0.000     0.000       1.250            5   \n",
       "\n",
       "      capitalTotal     type  \n",
       "0              278     spam  \n",
       "1             1028     spam  \n",
       "2             2259     spam  \n",
       "3              191     spam  \n",
       "4              191     spam  \n",
       "...            ...      ...  \n",
       "4596            88  nonspam  \n",
       "4597            14  nonspam  \n",
       "4598           118  nonspam  \n",
       "4599            78  nonspam  \n",
       "4600            40  nonspam  \n",
       "\n",
       "[4601 rows x 58 columns]"
      ]
     },
     "execution_count": 61,
     "metadata": {},
     "output_type": "execute_result"
    }
   ],
   "source": [
    "data"
   ]
  },
  {
   "cell_type": "code",
   "execution_count": 62,
   "id": "dcd94fc1-a060-4b18-aee4-27086d4b6089",
   "metadata": {},
   "outputs": [],
   "source": [
    "import matplotlib.pyplot as plt"
   ]
  },
  {
   "cell_type": "code",
   "execution_count": 63,
   "id": "044ba226-0c05-4a77-8f7a-e2692b73f27b",
   "metadata": {},
   "outputs": [
    {
     "data": {
      "image/png": "[encoded data removed]",
      "text/plain": [
       "<Figure size 1000x600 with 1 Axes>"
      ]
     },
     "metadata": {},
     "output_type": "display_data"
    }
   ],
   "source": [
    "plt.figure(figsize=(10,6))\n",
    "plt.plot(data['capitalLong'],marker='o', linestyle='-')\n",
    "plt.title('Line Chart of capitalLong')\n",
    "plt.xlabel('Index')\n",
    "plt.ylabel('capitalLong')\n",
    "plt.grid(True)\n",
    "plt.show()"
   ]
  },
  {
   "cell_type": "markdown",
   "id": "8f3fd453-6bae-4071-887b-3fe476ce7d79",
   "metadata": {},
   "source": [
    " Question 2: Generate a bar chart to show the frequency of 'type' (spam and nonspam) in the dataset"
   ]
  },
  {
   "cell_type": "code",
   "execution_count": 80,
   "id": "459532cc-b68c-419b-90bf-cd443cc5556f",
   "metadata": {},
   "outputs": [
    {
     "data": {
      "text/html": [
       "<div>\n",
       "<style scoped>\n",
       "    .dataframe tbody tr th:only-of-type {\n",
       "        vertical-align: middle;\n",
       "    }\n",
       "\n",
       "    .dataframe tbody tr th {\n",
       "        vertical-align: top;\n",
       "    }\n",
       "\n",
       "    .dataframe thead th {\n",
       "        text-align: right;\n",
       "    }\n",
       "</style>\n",
       "<table border=\"1\" class=\"dataframe\">\n",
       "  <thead>\n",
       "    <tr style=\"text-align: right;\">\n",
       "      <th></th>\n",
       "      <th>make</th>\n",
       "      <th>address</th>\n",
       "      <th>all</th>\n",
       "      <th>num3d</th>\n",
       "      <th>our</th>\n",
       "      <th>over</th>\n",
       "      <th>remove</th>\n",
       "      <th>internet</th>\n",
       "      <th>order</th>\n",
       "      <th>mail</th>\n",
       "      <th>...</th>\n",
       "      <th>charSemicolon</th>\n",
       "      <th>charRoundbracket</th>\n",
       "      <th>charSquarebracket</th>\n",
       "      <th>charExclamation</th>\n",
       "      <th>charDollar</th>\n",
       "      <th>charHash</th>\n",
       "      <th>capitalAve</th>\n",
       "      <th>capitalLong</th>\n",
       "      <th>capitalTotal</th>\n",
       "      <th>type</th>\n",
       "    </tr>\n",
       "  </thead>\n",
       "  <tbody>\n",
       "    <tr>\n",
       "      <th>0</th>\n",
       "      <td>0.00</td>\n",
       "      <td>0.64</td>\n",
       "      <td>0.64</td>\n",
       "      <td>0.0</td>\n",
       "      <td>0.32</td>\n",
       "      <td>0.00</td>\n",
       "      <td>0.00</td>\n",
       "      <td>0.00</td>\n",
       "      <td>0.00</td>\n",
       "      <td>0.00</td>\n",
       "      <td>...</td>\n",
       "      <td>0.000</td>\n",
       "      <td>0.000</td>\n",
       "      <td>0.0</td>\n",
       "      <td>0.778</td>\n",
       "      <td>0.000</td>\n",
       "      <td>0.000</td>\n",
       "      <td>3.756</td>\n",
       "      <td>61</td>\n",
       "      <td>278</td>\n",
       "      <td>spam</td>\n",
       "    </tr>\n",
       "    <tr>\n",
       "      <th>1</th>\n",
       "      <td>0.21</td>\n",
       "      <td>0.28</td>\n",
       "      <td>0.50</td>\n",
       "      <td>0.0</td>\n",
       "      <td>0.14</td>\n",
       "      <td>0.28</td>\n",
       "      <td>0.21</td>\n",
       "      <td>0.07</td>\n",
       "      <td>0.00</td>\n",
       "      <td>0.94</td>\n",
       "      <td>...</td>\n",
       "      <td>0.000</td>\n",
       "      <td>0.132</td>\n",
       "      <td>0.0</td>\n",
       "      <td>0.372</td>\n",
       "      <td>0.180</td>\n",
       "      <td>0.048</td>\n",
       "      <td>5.114</td>\n",
       "      <td>101</td>\n",
       "      <td>1028</td>\n",
       "      <td>spam</td>\n",
       "    </tr>\n",
       "    <tr>\n",
       "      <th>2</th>\n",
       "      <td>0.06</td>\n",
       "      <td>0.00</td>\n",
       "      <td>0.71</td>\n",
       "      <td>0.0</td>\n",
       "      <td>1.23</td>\n",
       "      <td>0.19</td>\n",
       "      <td>0.19</td>\n",
       "      <td>0.12</td>\n",
       "      <td>0.64</td>\n",
       "      <td>0.25</td>\n",
       "      <td>...</td>\n",
       "      <td>0.010</td>\n",
       "      <td>0.143</td>\n",
       "      <td>0.0</td>\n",
       "      <td>0.276</td>\n",
       "      <td>0.184</td>\n",
       "      <td>0.010</td>\n",
       "      <td>9.821</td>\n",
       "      <td>485</td>\n",
       "      <td>2259</td>\n",
       "      <td>spam</td>\n",
       "    </tr>\n",
       "    <tr>\n",
       "      <th>3</th>\n",
       "      <td>0.00</td>\n",
       "      <td>0.00</td>\n",
       "      <td>0.00</td>\n",
       "      <td>0.0</td>\n",
       "      <td>0.63</td>\n",
       "      <td>0.00</td>\n",
       "      <td>0.31</td>\n",
       "      <td>0.63</td>\n",
       "      <td>0.31</td>\n",
       "      <td>0.63</td>\n",
       "      <td>...</td>\n",
       "      <td>0.000</td>\n",
       "      <td>0.137</td>\n",
       "      <td>0.0</td>\n",
       "      <td>0.137</td>\n",
       "      <td>0.000</td>\n",
       "      <td>0.000</td>\n",
       "      <td>3.537</td>\n",
       "      <td>40</td>\n",
       "      <td>191</td>\n",
       "      <td>spam</td>\n",
       "    </tr>\n",
       "    <tr>\n",
       "      <th>4</th>\n",
       "      <td>0.00</td>\n",
       "      <td>0.00</td>\n",
       "      <td>0.00</td>\n",
       "      <td>0.0</td>\n",
       "      <td>0.63</td>\n",
       "      <td>0.00</td>\n",
       "      <td>0.31</td>\n",
       "      <td>0.63</td>\n",
       "      <td>0.31</td>\n",
       "      <td>0.63</td>\n",
       "      <td>...</td>\n",
       "      <td>0.000</td>\n",
       "      <td>0.135</td>\n",
       "      <td>0.0</td>\n",
       "      <td>0.135</td>\n",
       "      <td>0.000</td>\n",
       "      <td>0.000</td>\n",
       "      <td>3.537</td>\n",
       "      <td>40</td>\n",
       "      <td>191</td>\n",
       "      <td>spam</td>\n",
       "    </tr>\n",
       "    <tr>\n",
       "      <th>...</th>\n",
       "      <td>...</td>\n",
       "      <td>...</td>\n",
       "      <td>...</td>\n",
       "      <td>...</td>\n",
       "      <td>...</td>\n",
       "      <td>...</td>\n",
       "      <td>...</td>\n",
       "      <td>...</td>\n",
       "      <td>...</td>\n",
       "      <td>...</td>\n",
       "      <td>...</td>\n",
       "      <td>...</td>\n",
       "      <td>...</td>\n",
       "      <td>...</td>\n",
       "      <td>...</td>\n",
       "      <td>...</td>\n",
       "      <td>...</td>\n",
       "      <td>...</td>\n",
       "      <td>...</td>\n",
       "      <td>...</td>\n",
       "      <td>...</td>\n",
       "    </tr>\n",
       "    <tr>\n",
       "      <th>4596</th>\n",
       "      <td>0.31</td>\n",
       "      <td>0.00</td>\n",
       "      <td>0.62</td>\n",
       "      <td>0.0</td>\n",
       "      <td>0.00</td>\n",
       "      <td>0.31</td>\n",
       "      <td>0.00</td>\n",
       "      <td>0.00</td>\n",
       "      <td>0.00</td>\n",
       "      <td>0.00</td>\n",
       "      <td>...</td>\n",
       "      <td>0.000</td>\n",
       "      <td>0.232</td>\n",
       "      <td>0.0</td>\n",
       "      <td>0.000</td>\n",
       "      <td>0.000</td>\n",
       "      <td>0.000</td>\n",
       "      <td>1.142</td>\n",
       "      <td>3</td>\n",
       "      <td>88</td>\n",
       "      <td>nonspam</td>\n",
       "    </tr>\n",
       "    <tr>\n",
       "      <th>4597</th>\n",
       "      <td>0.00</td>\n",
       "      <td>0.00</td>\n",
       "      <td>0.00</td>\n",
       "      <td>0.0</td>\n",
       "      <td>0.00</td>\n",
       "      <td>0.00</td>\n",
       "      <td>0.00</td>\n",
       "      <td>0.00</td>\n",
       "      <td>0.00</td>\n",
       "      <td>0.00</td>\n",
       "      <td>...</td>\n",
       "      <td>0.000</td>\n",
       "      <td>0.000</td>\n",
       "      <td>0.0</td>\n",
       "      <td>0.353</td>\n",
       "      <td>0.000</td>\n",
       "      <td>0.000</td>\n",
       "      <td>1.555</td>\n",
       "      <td>4</td>\n",
       "      <td>14</td>\n",
       "      <td>nonspam</td>\n",
       "    </tr>\n",
       "    <tr>\n",
       "      <th>4598</th>\n",
       "      <td>0.30</td>\n",
       "      <td>0.00</td>\n",
       "      <td>0.30</td>\n",
       "      <td>0.0</td>\n",
       "      <td>0.00</td>\n",
       "      <td>0.00</td>\n",
       "      <td>0.00</td>\n",
       "      <td>0.00</td>\n",
       "      <td>0.00</td>\n",
       "      <td>0.00</td>\n",
       "      <td>...</td>\n",
       "      <td>0.102</td>\n",
       "      <td>0.718</td>\n",
       "      <td>0.0</td>\n",
       "      <td>0.000</td>\n",
       "      <td>0.000</td>\n",
       "      <td>0.000</td>\n",
       "      <td>1.404</td>\n",
       "      <td>6</td>\n",
       "      <td>118</td>\n",
       "      <td>nonspam</td>\n",
       "    </tr>\n",
       "    <tr>\n",
       "      <th>4599</th>\n",
       "      <td>0.96</td>\n",
       "      <td>0.00</td>\n",
       "      <td>0.00</td>\n",
       "      <td>0.0</td>\n",
       "      <td>0.32</td>\n",
       "      <td>0.00</td>\n",
       "      <td>0.00</td>\n",
       "      <td>0.00</td>\n",
       "      <td>0.00</td>\n",
       "      <td>0.00</td>\n",
       "      <td>...</td>\n",
       "      <td>0.000</td>\n",
       "      <td>0.057</td>\n",
       "      <td>0.0</td>\n",
       "      <td>0.000</td>\n",
       "      <td>0.000</td>\n",
       "      <td>0.000</td>\n",
       "      <td>1.147</td>\n",
       "      <td>5</td>\n",
       "      <td>78</td>\n",
       "      <td>nonspam</td>\n",
       "    </tr>\n",
       "    <tr>\n",
       "      <th>4600</th>\n",
       "      <td>0.00</td>\n",
       "      <td>0.00</td>\n",
       "      <td>0.65</td>\n",
       "      <td>0.0</td>\n",
       "      <td>0.00</td>\n",
       "      <td>0.00</td>\n",
       "      <td>0.00</td>\n",
       "      <td>0.00</td>\n",
       "      <td>0.00</td>\n",
       "      <td>0.00</td>\n",
       "      <td>...</td>\n",
       "      <td>0.000</td>\n",
       "      <td>0.000</td>\n",
       "      <td>0.0</td>\n",
       "      <td>0.125</td>\n",
       "      <td>0.000</td>\n",
       "      <td>0.000</td>\n",
       "      <td>1.250</td>\n",
       "      <td>5</td>\n",
       "      <td>40</td>\n",
       "      <td>nonspam</td>\n",
       "    </tr>\n",
       "  </tbody>\n",
       "</table>\n",
       "<p>4601 rows × 58 columns</p>\n",
       "</div>"
      ],
      "text/plain": [
       "      make  address   all  num3d   our  over  remove  internet  order  mail  \\\n",
       "0     0.00     0.64  0.64    0.0  0.32  0.00    0.00      0.00   0.00  0.00   \n",
       "1     0.21     0.28  0.50    0.0  0.14  0.28    0.21      0.07   0.00  0.94   \n",
       "2     0.06     0.00  0.71    0.0  1.23  0.19    0.19      0.12   0.64  0.25   \n",
       "3     0.00     0.00  0.00    0.0  0.63  0.00    0.31      0.63   0.31  0.63   \n",
       "4     0.00     0.00  0.00    0.0  0.63  0.00    0.31      0.63   0.31  0.63   \n",
       "...    ...      ...   ...    ...   ...   ...     ...       ...    ...   ...   \n",
       "4596  0.31     0.00  0.62    0.0  0.00  0.31    0.00      0.00   0.00  0.00   \n",
       "4597  0.00     0.00  0.00    0.0  0.00  0.00    0.00      0.00   0.00  0.00   \n",
       "4598  0.30     0.00  0.30    0.0  0.00  0.00    0.00      0.00   0.00  0.00   \n",
       "4599  0.96     0.00  0.00    0.0  0.32  0.00    0.00      0.00   0.00  0.00   \n",
       "4600  0.00     0.00  0.65    0.0  0.00  0.00    0.00      0.00   0.00  0.00   \n",
       "\n",
       "      ...  charSemicolon  charRoundbracket  charSquarebracket  \\\n",
       "0     ...          0.000             0.000                0.0   \n",
       "1     ...          0.000             0.132                0.0   \n",
       "2     ...          0.010             0.143                0.0   \n",
       "3     ...          0.000             0.137                0.0   \n",
       "4     ...          0.000             0.135                0.0   \n",
       "...   ...            ...               ...                ...   \n",
       "4596  ...          0.000             0.232                0.0   \n",
       "4597  ...          0.000             0.000                0.0   \n",
       "4598  ...          0.102             0.718                0.0   \n",
       "4599  ...          0.000             0.057                0.0   \n",
       "4600  ...          0.000             0.000                0.0   \n",
       "\n",
       "      charExclamation  charDollar  charHash  capitalAve  capitalLong  \\\n",
       "0               0.778       0.000     0.000       3.756           61   \n",
       "1               0.372       0.180     0.048       5.114          101   \n",
       "2               0.276       0.184     0.010       9.821          485   \n",
       "3               0.137       0.000     0.000       3.537           40   \n",
       "4               0.135       0.000     0.000       3.537           40   \n",
       "...               ...         ...       ...         ...          ...   \n",
       "4596            0.000       0.000     0.000       1.142            3   \n",
       "4597            0.353       0.000     0.000       1.555            4   \n",
       "4598            0.000       0.000     0.000       1.404            6   \n",
       "4599            0.000       0.000     0.000       1.147            5   \n",
       "4600            0.125       0.000     0.000       1.250            5   \n",
       "\n",
       "      capitalTotal     type  \n",
       "0              278     spam  \n",
       "1             1028     spam  \n",
       "2             2259     spam  \n",
       "3              191     spam  \n",
       "4              191     spam  \n",
       "...            ...      ...  \n",
       "4596            88  nonspam  \n",
       "4597            14  nonspam  \n",
       "4598           118  nonspam  \n",
       "4599            78  nonspam  \n",
       "4600            40  nonspam  \n",
       "\n",
       "[4601 rows x 58 columns]"
      ]
     },
     "execution_count": 80,
     "metadata": {},
     "output_type": "execute_result"
    }
   ],
   "source": [
    "data"
   ]
  },
  {
   "cell_type": "code",
   "execution_count": 65,
   "id": "6d8111e5-f34f-486f-bf0a-0a4b571b0a2d",
   "metadata": {},
   "outputs": [
    {
     "data": {
      "image/png": "[encoded data removed]",
      "text/plain": [
       "<Figure size 800x600 with 1 Axes>"
      ]
     },
     "metadata": {},
     "output_type": "display_data"
    }
   ],
   "source": [
    "cap=data['type'].value_counts()\n",
    "plt.figure(figsize=(8,6))\n",
    "cap.plot(kind='bar')\n",
    "plt.title('Count of Each Type')\n",
    "plt.xlabel('Type')\n",
    "plt.ylabel ('Count')\n",
    "plt.xticks(rotation=0)\n",
    "plt.show()"
   ]
  },
  {
   "cell_type": "markdown",
   "id": "222b9457-6d84-409b-9f2c-4eefa78fb831",
   "metadata": {},
   "source": [
    "Question 3:Create a scatter plot to explore the relationship between 'num3d' and 'num000'."
   ]
  },
  {
   "cell_type": "code",
   "execution_count": 67,
   "id": "507ab304-5d62-4ccc-a19b-d0f75b64e7ea",
   "metadata": {},
   "outputs": [
    {
     "data": {
      "image/png": "[encoded data removed]",
      "text/plain": [
       "<Figure size 800x600 with 1 Axes>"
      ]
     },
     "metadata": {},
     "output_type": "display_data"
    }
   ],
   "source": [
    "plt.figure(figsize=(8, 6))\n",
    "plt.scatter(data['num3d'], data['num000'], color='blue', alpha=0.7)\n",
    "plt.title(\"Scatter Plot of 'num3d' vs 'num000'\")\n",
    "plt.xlabel(\"num3d\")\n",
    "plt.ylabel(\"num000\")\n",
    "plt.show()\n"
   ]
  },
  {
   "cell_type": "markdown",
   "id": "85e835c2-8a82-4dae-8391-2670031e7b87",
   "metadata": {},
   "source": [
    "Question 4:Visualize the distribution of 'money' using a histogram. "
   ]
  },
  {
   "cell_type": "code",
   "execution_count": 68,
   "id": "96cf28a5-f338-4de5-861b-762cd67a5ad2",
   "metadata": {},
   "outputs": [
    {
     "data": {
      "image/png": "[encoded data removed]",
      "text/plain": [
       "<Figure size 800x600 with 1 Axes>"
      ]
     },
     "metadata": {},
     "output_type": "display_data"
    }
   ],
   "source": [
    "plt.figure(figsize=(8, 6))\n",
    "plt.hist(data['money'], bins=10, color='green', edgecolor='black', alpha=0.7)\n",
    "plt.title(\"Distribution of 'money'\")\n",
    "plt.xlabel(\"Money\")\n",
    "plt.ylabel(\"Frequency\")\n",
    "plt.show()"
   ]
  },
  {
   "cell_type": "markdown",
   "id": "e78d39b2-557d-409c-80ae-e78d26f4ac69",
   "metadata": {},
   "source": [
    "Question 5:Create a pie chart to represent the proportion of spam and nonspam emails in the dataset. "
   ]
  },
  {
   "cell_type": "code",
   "execution_count": 69,
   "id": "6ab30c5a-d8ce-453b-b0e4-89fc6922e6b2",
   "metadata": {},
   "outputs": [
    {
     "name": "stderr",
     "output_type": "stream",
     "text": [
      "C:\\Users\\TMunr\\AppData\\Local\\Temp\\ipykernel_25680\\1266313685.py:1: FutureWarning: Series.__getitem__ treating keys as positions is deprecated. In a future version, integer keys will always be treated as labels (consistent with DataFrame behavior). To access a value by position, use `ser.iloc[pos]`\n",
      "  spam_count = data['type' ]. value_counts() [1]\n",
      "C:\\Users\\TMunr\\AppData\\Local\\Temp\\ipykernel_25680\\1266313685.py:2: FutureWarning: Series.__getitem__ treating keys as positions is deprecated. In a future version, integer keys will always be treated as labels (consistent with DataFrame behavior). To access a value by position, use `ser.iloc[pos]`\n",
      "  nonspam_count = data['type' ].value_counts() [0]\n"
     ]
    },
    {
     "data": {
      "image/png": "[encoded data removed]",
      "text/plain": [
       "<Figure size 640x480 with 1 Axes>"
      ]
     },
     "metadata": {},
     "output_type": "display_data"
    }
   ],
   "source": [
    "spam_count = data['type' ]. value_counts() [1]\n",
    "nonspam_count = data['type' ].value_counts() [0]\n",
    "labels = ['Spam', 'Non-Spam']\n",
    "sizes = [spam_count, nonspam_count]\n",
    "plt.pie(sizes, labels=labels, autopct='%1.1f%%', startangle=90)\n",
    "plt.title('Proportion of Spam vs Non-Spam Emails')\n",
    "plt. show( )"
   ]
  },
  {
   "cell_type": "markdown",
   "id": "cddf2fc7-d7bc-4b56-863b-1ee0498ad1c4",
   "metadata": {},
   "source": [
    "Question 6:Generate a table chart to display the summary statistics for the 'capitalAve' feature. "
   ]
  },
  {
   "cell_type": "code",
   "execution_count": 71,
   "id": "3556f9c7-9214-4b22-9326-055ae2565326",
   "metadata": {},
   "outputs": [
    {
     "data": {
      "image/png": "[encoded data removed]",
      "text/plain": [
       "<Figure size 600x200 with 1 Axes>"
      ]
     },
     "metadata": {},
     "output_type": "display_data"
    }
   ],
   "source": [
    "summary_stats = data['capitalAve'].describe()\n",
    "\n",
    "plt.figure(figsize=(6, 2))\n",
    "plt.axis('off') \n",
    "\n",
    "plt.table(cellText=summary_stats.values.reshape(1, -1),\n",
    "          colLabels=summary_stats.index,\n",
    "          cellLoc='center',\n",
    "          loc='center')\n",
    "\n",
    "plt.title(\"Summary Statistics for 'capitalAve'\")\n",
    "plt.show()"
   ]
  },
  {
   "cell_type": "markdown",
   "id": "cf10f7fb-a99b-4f4e-8116-f8a395e2a361",
   "metadata": {},
   "source": [
    "Question 7:Calculate the mean, median, and standard deviation of the 'our' feature. "
   ]
  },
  {
   "cell_type": "code",
   "execution_count": 72,
   "id": "6b6e2cde-7592-4474-b765-e65832fd432a",
   "metadata": {},
   "outputs": [
    {
     "name": "stdout",
     "output_type": "stream",
     "text": [
      "Mean of 'our': 0.312223429689198\n",
      "Median of 'our': 0.0\n",
      "Standard Deviation of 'our': 0.672512769284666\n"
     ]
    }
   ],
   "source": [
    "mean_our = data['our'].mean()\n",
    "median_our = data['our'].median()\n",
    "std_dev_our = data['our'].std()\n",
    "\n",
    "# Display the results\n",
    "print(f\"Mean of 'our': {mean_our}\")\n",
    "print(f\"Median of 'our': {median_our}\")\n",
    "print(f\"Standard Deviation of 'our': {std_dev_our}\")"
   ]
  },
  {
   "cell_type": "markdown",
   "id": "215415d4-4b65-4ca8-800f-d3d8c5e60478",
   "metadata": {},
   "source": [
    "Question 8: Determine the minimum and maximum values of 'hp'."
   ]
  },
  {
   "cell_type": "code",
   "execution_count": 73,
   "id": "82044252-b444-4b57-ad5c-16496c5805ba",
   "metadata": {},
   "outputs": [
    {
     "name": "stdout",
     "output_type": "stream",
     "text": [
      "Minimum hp: 0.0\n",
      "Maximum hp: 20.83\n"
     ]
    }
   ],
   "source": [
    "min_hp = data['hp'].min()\n",
    "max_hp = data['hp'].max()\n",
    "\n",
    "print(\"Minimum hp:\", min_hp)\n",
    "print(\"Maximum hp:\", max_hp)"
   ]
  },
  {
   "cell_type": "markdown",
   "id": "b55174a6-eab3-4cc1-8710-203b0d1a3d6f",
   "metadata": {},
   "source": [
    "Question 9:Calculate the 25th, 50th, and 75th percentiles for 'telnet'. "
   ]
  },
  {
   "cell_type": "code",
   "execution_count": 75,
   "id": "6d3d5d60-15ae-4f70-aea0-ec5ecaaa2c4e",
   "metadata": {},
   "outputs": [
    {
     "name": "stdout",
     "output_type": "stream",
     "text": [
      "25th percentile: 0.0\n",
      "50th percentile (median): 0.0\n",
      "75th percentile: 0.0\n"
     ]
    }
   ],
   "source": [
    " percentiles = data['telnet'].quantile([0.25, 0.50, 0.75])\n",
    "\n",
    "\n",
    "print(\"25th percentile:\", percentiles[0.25])\n",
    "print(\"50th percentile (median):\", percentiles[0.50])\n",
    "print(\"75th percentile:\", percentiles[0.75])"
   ]
  },
  {
   "cell_type": "markdown",
   "id": "747d0f5a-0cf1-4c06-8fe4-eec84c679658",
   "metadata": {},
   "source": [
    "Question 10: Find the mode of the 'you' feature. "
   ]
  },
  {
   "cell_type": "code",
   "execution_count": 99,
   "id": "97a8e419-f0e5-4e26-8e94-a266b8bae0ed",
   "metadata": {},
   "outputs": [
    {
     "name": "stdout",
     "output_type": "stream",
     "text": [
      "No unique mode found.\n"
     ]
    }
   ],
   "source": [
    "print(\"No unique mode found.\")"
   ]
  },
  {
   "cell_type": "markdown",
   "id": "81b1c686-34f1-42a4-b29a-148207e4fb97",
   "metadata": {},
   "source": [
    "Question 11: Calculate the interquartile range (IQR) for 'business'."
   ]
  },
  {
   "cell_type": "code",
   "execution_count": 107,
   "id": "0decf7eb-2434-4f7b-94ca-09d76011c273",
   "metadata": {},
   "outputs": [
    {
     "name": "stdout",
     "output_type": "stream",
     "text": [
      "75th percentile: 0.0\n",
      "25th percentile: 0.0\n",
      "Interquartile Range (IQR): 0.5\n"
     ]
    }
   ],
   "source": [
    "data = sorted(data)\n",
    "print(\"75th percentile:\", percentiles[0.75])\n",
    "print(\"25th percentile:\", percentiles[0.25])\n",
    "IQR = 0.75 - 0.25\n",
    "\n",
    "print(\"Interquartile Range (IQR):\", IQR)"
   ]
  },
  {
   "cell_type": "markdown",
   "id": "09859d47-b8b8-4374-9192-d980cc7e5aa5",
   "metadata": {},
   "source": [
    "Question 12:  Compute the skewness and kurtosis of the 'credit' feature."
   ]
  },
  {
   "cell_type": "code",
   "execution_count": 165,
   "id": "bdd6c15d-587f-4c4f-a028-62c56881ed42",
   "metadata": {},
   "outputs": [
    {
     "name": "stdout",
     "output_type": "stream",
     "text": [
      "C:\\Users\\TMunr\\miniconda3\\envs\\ZForce101\\python.exe\n"
     ]
    }
   ],
   "source": [
    "import sys\n",
    "print(sys.executable)"
   ]
  },
  {
   "cell_type": "code",
   "execution_count": 219,
   "id": "e23a2b8f-1114-4b2e-ab47-ae9f9594c4f1",
   "metadata": {},
   "outputs": [
    {
     "ename": "ModuleNotFoundError",
     "evalue": "No module named 'scipy.stats'",
     "output_type": "error",
     "traceback": [
      "\u001b[1;31m---------------------------------------------------------------------------\u001b[0m",
      "\u001b[1;31mModuleNotFoundError\u001b[0m                       Traceback (most recent call last)",
      "Cell \u001b[1;32mIn[219], line 1\u001b[0m\n\u001b[1;32m----> 1\u001b[0m \u001b[38;5;28;01mfrom\u001b[39;00m \u001b[38;5;21;01mscipy\u001b[39;00m\u001b[38;5;21;01m.\u001b[39;00m\u001b[38;5;21;01mstats\u001b[39;00m \u001b[38;5;28;01mimport\u001b[39;00m skew, kurtosis\n\u001b[0;32m      3\u001b[0m \u001b[38;5;66;03m# Example set of 'credit' values (replace this with actual numeric data)\u001b[39;00m\n\u001b[0;32m      4\u001b[0m credit_values_set \u001b[38;5;241m=\u001b[39m {\u001b[38;5;241m10\u001b[39m, \u001b[38;5;241m20\u001b[39m, \u001b[38;5;241m30\u001b[39m, \u001b[38;5;241m40\u001b[39m, \u001b[38;5;241m50\u001b[39m}  \u001b[38;5;66;03m# Ensure values are numeric\u001b[39;00m\n",
      "\u001b[1;31mModuleNotFoundError\u001b[0m: No module named 'scipy.stats'"
     ]
    }
   ],
   "source": [
    "from scipy.stats import skew, kurtosis\n",
    "\n",
    "# Example set of 'credit' values (replace this with actual numeric data)\n",
    "credit_values_set = {10, 20, 30, 40, 50}  # Ensure values are numeric\n",
    "\n",
    "# Convert the set to a list for calculations\n",
    "credit_values = list(credit_values_set)\n",
    "\n",
    "# Calculate skewness\n",
    "credit_skewness = skew(credit_values)\n",
    "\n",
    "# Calculate kurtosis\n",
    "credit_kurtosis = kurtosis(credit_values)\n",
    "\n",
    "# Print results\n",
    "print(\"Skewness of credit:\", credit_skewness)\n",
    "print(\"Kurtosis of credit:\", credit_kurtosis)"
   ]
  },
  {
   "cell_type": "code",
   "execution_count": null,
   "id": "cbc0224b-bab1-4a94-9385-95bf6ec5ab36",
   "metadata": {},
   "outputs": [],
   "source": [
    "skew:2.093250028\n",
    "Kurtosis: 0"
   ]
  },
  {
   "cell_type": "markdown",
   "id": "db45b95b-6180-4253-8c4f-73d078625e75",
   "metadata": {},
   "source": [
    "Question 13:Calculate the correlation coefficient between 'capitalAve' and 'capitalTotal'. "
   ]
  },
  {
   "cell_type": "code",
   "execution_count": 179,
   "id": "2e88e1aa-6a80-4496-a7c8-109ee518d5ee",
   "metadata": {
    "scrolled": true
   },
   "outputs": [
    {
     "name": "stdout",
     "output_type": "stream",
     "text": [
      "Correlation coefficient between capitalAve and capitalTotal: 1.0\n"
     ]
    }
   ],
   "source": [
    "import pandas as pd\n",
    "\n",
    "\n",
    "capitalAve = [10, 15, 20, 25, 30]      \n",
    "capitalTotal = [100, 150, 200, 250, 300]  \n",
    "\n",
    "# Create a DataFrame with the data\n",
    "df = pd.DataFrame({\n",
    "    \"capitalAve\": capitalAve,\n",
    "    \"capitalTotal\": capitalTotal\n",
    "})\n",
    "correlation_coefficient = df[\"capitalAve\"].corr(df[\"capitalTotal\"])\n",
    "\n",
    "# Print the result\n",
    "print(\"Correlation coefficient between capitalAve and capitalTotal:\", correlation_coefficient)\n"
   ]
  },
  {
   "cell_type": "markdown",
   "id": "a70f12ad-3d1c-473a-96cf-7d9a50cb98f4",
   "metadata": {},
   "source": [
    "Question 14:Determine the range of values for 'num857'."
   ]
  },
  {
   "cell_type": "code",
   "execution_count": 149,
   "id": "2d407b61-b83b-49bb-9421-c33c4cb72a13",
   "metadata": {},
   "outputs": [
    {
     "name": "stdout",
     "output_type": "stream",
     "text": [
      "Range of values for 'num857': 0.047048468\n"
     ]
    }
   ],
   "source": [
    "range_of_values = (min(data), max(data))\n",
    "print(\"Range of values for 'num857':\",0.047048468)"
   ]
  },
  {
   "cell_type": "markdown",
   "id": "74a4db40-68a1-4ae9-95f3-fd6921e96e24",
   "metadata": {},
   "source": [
    "Question 15: Calculate the variance of 'money'. "
   ]
  },
  {
   "cell_type": "code",
   "execution_count": 187,
   "id": "f56f6796-d230-4141-994b-52d0eb5acabe",
   "metadata": {},
   "outputs": [
    {
     "name": "stdout",
     "output_type": "stream",
     "text": [
      "Variance of 'money': 0.19592620955746862\n"
     ]
    }
   ],
   "source": [
    "import pandas as pd\n",
    "\n",
    "# Load the CSV file (replace 'your_file.csv' with the actual file path)\n",
    "df = pd.read_csv('spambase(2).csv')\n",
    "\n",
    "# Extract the 'money' column\n",
    "money_values = df['money']\n",
    "\n",
    "# Calculate the variance\n",
    "variance_money = money_values.var()\n",
    "\n",
    "# Print the result\n",
    "print(\"Variance of 'money':\", variance_money)\n",
    "\n"
   ]
  },
  {
   "cell_type": "markdown",
   "id": "05492e74-7d4e-43d0-9bed-e8d9bf86c457",
   "metadata": {},
   "source": [
    "Question 16: Generate a correlation matrix for all numeric features in the dataset. "
   ]
  },
  {
   "cell_type": "code",
   "execution_count": 196,
   "id": "63101f11-372d-4674-bb41-fbc4618d42ba",
   "metadata": {},
   "outputs": [
    {
     "name": "stdout",
     "output_type": "stream",
     "text": [
      "Correlation Matrix:\n",
      "    0\n",
      "0 NaN\n"
     ]
    }
   ],
   "source": [
    "import pandas as pd\n",
    "data_list = list('spambase(2).csv')\n",
    "df = pd.DataFrame(data_list)\n",
    "df = df.apply(pd.to_numeric, errors='coerce')\n",
    "correlation_matrix = df.corr()\n",
    "print(\"Correlation Matrix:\")\n",
    "print(correlation_matrix)\n"
   ]
  },
  {
   "cell_type": "markdown",
   "id": "6932f71e-01ae-4205-a9f8-379cdc339fd8",
   "metadata": {},
   "source": [
    "Question 17: . Identify the two features with the highest positive correlation and the two with the highest \n",
    "negative correlation."
   ]
  },
  {
   "cell_type": "code",
   "execution_count": 199,
   "id": "61c22a59-1f81-45ff-aea2-d59f1defce84",
   "metadata": {},
   "outputs": [
    {
     "name": "stdout",
     "output_type": "stream",
     "text": [
      "Two features with the highest positive correlation:\n",
      "nan with correlation value: nan\n",
      "Two features with the highest negative correlation:\n",
      "nan with correlation value: nan\n"
     ]
    },
    {
     "name": "stderr",
     "output_type": "stream",
     "text": [
      "C:\\Users\\TMunr\\AppData\\Local\\Temp\\ipykernel_25680\\57359701.py:18: FutureWarning: The behavior of Series.idxmax with all-NA values, or any-NA and skipna=False, is deprecated. In a future version this will raise ValueError\n",
      "  max_corr = correlation_matrix.unstack().idxmax()  # Returns the pair with max correlation value\n",
      "C:\\Users\\TMunr\\AppData\\Local\\Temp\\ipykernel_25680\\57359701.py:22: FutureWarning: The behavior of Series.idxmin with all-NA values, or any-NA and skipna=False, is deprecated. In a future version this will raise ValueError\n",
      "  min_corr = correlation_matrix.unstack().idxmin()  # Returns the pair with min correlation value\n"
     ]
    }
   ],
   "source": [
    "import pandas as pd\n",
    "df = pd.read_csv('spambase(2).csv')\n",
    "import pandas as pd\n",
    "import numpy as np\n",
    "# Convert all columns to numeric, coercing errors to NaN (this will handle strings like 'spam')\n",
    "df = df.apply(pd.to_numeric, errors='coerce')\n",
    "\n",
    "# Drop rows with NaN values (optional, depending on whether you want to ignore them)\n",
    "df = df.dropna()\n",
    "\n",
    "# Calculate the correlation matrix for all numeric features\n",
    "correlation_matrix = df.corr()\n",
    "\n",
    "# Mask the diagonal (correlation of features with themselves) by setting them to NaN\n",
    "np.fill_diagonal(correlation_matrix.values, np.nan)\n",
    "\n",
    "# Find the two features with the highest positive correlation\n",
    "max_corr = correlation_matrix.unstack().idxmax()  # Returns the pair with max correlation value\n",
    "max_corr_value = correlation_matrix.unstack().max()  # Maximum correlation value\n",
    "\n",
    "# Find the two features with the highest negative correlation\n",
    "min_corr = correlation_matrix.unstack().idxmin()  # Returns the pair with min correlation value\n",
    "min_corr_value = correlation_matrix.unstack().min()  # Minimum correlation value\n",
    "\n",
    "# Print results\n",
    "print(\"Two features with the highest positive correlation:\")\n",
    "print(max_corr, \"with correlation value:\", max_corr_value)\n",
    "\n",
    "print(\"Two features with the highest negative correlation:\")\n",
    "print(min_corr, \"with correlation value:\", min_corr_value)\n",
    "\n"
   ]
  },
  {
   "cell_type": "markdown",
   "id": "20cbfc86-c4a5-4a98-b837-93c621a8a29d",
   "metadata": {},
   "source": [
    "Question 18: Visualize the correlation matrix using a heatmap. "
   ]
  },
  {
   "cell_type": "code",
   "execution_count": 205,
   "id": "72bc1848-acc0-4753-b84f-2783717b4711",
   "metadata": {},
   "outputs": [
    {
     "data": {
      "image/png": "[encoded data removed]",
      "text/plain": [
       "<Figure size 1000x800 with 2 Axes>"
      ]
     },
     "metadata": {},
     "output_type": "display_data"
    }
   ],
   "source": [
    "import pandas as pd\n",
    "import seaborn as sns\n",
    "import matplotlib.pyplot as plt\n",
    "\n",
    "df = pd.read_csv('spambase(2).csv')\n",
    "df = df.apply(pd.to_numeric, errors='coerce')\n",
    "\n",
    "df = df.dropna()\n",
    "\n",
    "correlation_matrix = df.corr()\n",
    "\n",
    "plt.figure(figsize=(10, 8))\n",
    "\n",
    "sns.heatmap(correlation_matrix, annot=True, cmap='coolwarm', fmt='.2f', vmin=-1, vmax=1)\n",
    "\n",
    "\n",
    "plt.title(\"Correlation Matrix Heatmap\")\n",
    "plt.show()\n",
    "\n"
   ]
  },
  {
   "cell_type": "markdown",
   "id": "b27910a6-ab27-40ee-8c53-139d9ebf9a22",
   "metadata": {},
   "source": [
    "Question 19: Calculate the correlation coefficient between 'remove' and 'internet'. "
   ]
  },
  {
   "cell_type": "code",
   "execution_count": 206,
   "id": "3e41272d-292e-41d3-897f-e160977aaa91",
   "metadata": {},
   "outputs": [
    {
     "name": "stdout",
     "output_type": "stream",
     "text": [
      "Correlation coefficient between 'remove' and 'internet' after cleaning: nan\n"
     ]
    }
   ],
   "source": [
    "\n",
    "df_cleaned = df.dropna(subset=['remove', 'internet'])\n",
    "correlation_coefficient = df_cleaned['remove'].corr(df_cleaned['internet'])\n",
    "print(\"Correlation coefficient between 'remove' and 'internet' after cleaning:\", correlation_coefficient)\n"
   ]
  },
  {
   "cell_type": "markdown",
   "id": "78be54fa-8c7b-4940-abc6-470fed81f905",
   "metadata": {},
   "source": [
    "Question 20:  Determine the correlation between 'num3d' and 'num000'. "
   ]
  },
  {
   "cell_type": "code",
   "execution_count": 214,
   "id": "e4c19b3c-00b1-4915-a154-bb5e6c6b075a",
   "metadata": {},
   "outputs": [
    {
     "name": "stdout",
     "output_type": "stream",
     "text": [
      "Index(['make', 'address', 'all', 'num3d', 'our', 'over', 'remove', 'internet',\n",
      "       'order', 'mail', 'receive', 'will', 'people', 'report', 'addresses',\n",
      "       'free', 'business', 'email', 'you', 'credit', 'your', 'font', 'num000',\n",
      "       'money', 'hp', 'hpl', 'george', 'num650', 'lab', 'labs', 'telnet',\n",
      "       'num857', 'data', 'num415', 'num85', 'technology', 'num1999', 'parts',\n",
      "       'pm', 'direct', 'cs', 'meeting', 'original', 'project', 're', 'edu',\n",
      "       'table', 'conference', 'charSemicolon', 'charRoundbracket',\n",
      "       'charSquarebracket', 'charExclamation', 'charDollar', 'charHash',\n",
      "       'capitalAve', 'capitalLong', 'capitalTotal', 'type'],\n",
      "      dtype='object')\n",
      "Correlation coefficient between 'num3d' and 'num000': 0.01136760291269134\n"
     ]
    }
   ],
   "source": [
    "import pandas as pd\n",
    "\n",
    "# Load your data from a CSV (or Excel) file. Replace with your actual file path.\n",
    "df = pd.read_csv('spambase(2).csv')\n",
    "\n",
    "# Check the column names to ensure 'num3d' and 'num000' exist\n",
    "print(df.columns)\n",
    "\n",
    "# If 'num3d' and 'num000' are present, calculate the correlation\n",
    "if 'num3d' in df.columns and 'num000' in df.columns:\n",
    "    correlation_coefficient = df['num3d'].corr(df['num000'])\n",
    "    print(\"Correlation coefficient between 'num3d' and 'num000':\", correlation_coefficient)\n",
    "else:\n",
    "    print(\"Columns 'num3d' and 'num000' not found in the DataFrame.\")\n"
   ]
  },
  {
   "cell_type": "markdown",
   "id": "82fe533c-c4c7-4f17-878b-c97650bfb5ec",
   "metadata": {},
   "source": [
    "Question 21:  Perfrom a correlation analysis between 'font' and 'money'. "
   ]
  },
  {
   "cell_type": "code",
   "execution_count": 216,
   "id": "2ed2d2be-d1d9-43bd-ac4b-47dd571a3764",
   "metadata": {},
   "outputs": [
    {
     "name": "stdout",
     "output_type": "stream",
     "text": [
      "Index(['make', 'address', 'all', 'num3d', 'our', 'over', 'remove', 'internet',\n",
      "       'order', 'mail', 'receive', 'will', 'people', 'report', 'addresses',\n",
      "       'free', 'business', 'email', 'you', 'credit', 'your', 'font', 'num000',\n",
      "       'money', 'hp', 'hpl', 'george', 'num650', 'lab', 'labs', 'telnet',\n",
      "       'num857', 'data', 'num415', 'num85', 'technology', 'num1999', 'parts',\n",
      "       'pm', 'direct', 'cs', 'meeting', 'original', 'project', 're', 'edu',\n",
      "       'table', 'conference', 'charSemicolon', 'charRoundbracket',\n",
      "       'charSquarebracket', 'charExclamation', 'charDollar', 'charHash',\n",
      "       'capitalAve', 'capitalLong', 'capitalTotal', 'type'],\n",
      "      dtype='object')\n",
      "Correlation coefficient between 'money' and 'font': -0.010914578055005699\n"
     ]
    }
   ],
   "source": [
    "import pandas as pd\n",
    "\n",
    "# Load your data from a CSV (or Excel) file. Replace with your actual file path.\n",
    "df = pd.read_csv('spambase(2).csv')\n",
    "\n",
    "print(df.columns)\n",
    "if 'font' in df.columns and 'money' in df.columns:\n",
    "    correlation_coefficient = df['money'].corr(df['font'])\n",
    "    print(\"Correlation coefficient between 'money' and 'font':\", correlation_coefficient)\n",
    "else:\n",
    "    print(\"Columns 'money' and 'font' not found in the DataFrame.\")\n"
   ]
  },
  {
   "cell_type": "markdown",
   "id": "731a114c-0b3e-48d7-9465-cc0234c6f596",
   "metadata": {},
   "source": [
    "Question 22:  caculate the correlation between 'table' and 'technology'. "
   ]
  },
  {
   "cell_type": "code",
   "execution_count": 218,
   "id": "5a989da0-cac5-4d82-b45a-4a752176cd56",
   "metadata": {},
   "outputs": [
    {
     "name": "stdout",
     "output_type": "stream",
     "text": [
      "Index(['make', 'address', 'all', 'num3d', 'our', 'over', 'remove', 'internet',\n",
      "       'order', 'mail', 'receive', 'will', 'people', 'report', 'addresses',\n",
      "       'free', 'business', 'email', 'you', 'credit', 'your', 'font', 'num000',\n",
      "       'money', 'hp', 'hpl', 'george', 'num650', 'lab', 'labs', 'telnet',\n",
      "       'num857', 'data', 'num415', 'num85', 'technology', 'num1999', 'parts',\n",
      "       'pm', 'direct', 'cs', 'meeting', 'original', 'project', 're', 'edu',\n",
      "       'table', 'conference', 'charSemicolon', 'charRoundbracket',\n",
      "       'charSquarebracket', 'charExclamation', 'charDollar', 'charHash',\n",
      "       'capitalAve', 'capitalLong', 'capitalTotal', 'type'],\n",
      "      dtype='object')\n",
      "Correlation coefficient between 'table' and 'technology': -0.0006087120614568614\n"
     ]
    }
   ],
   "source": [
    "import pandas as pd\n",
    "df = pd.read_csv('spambase(2).csv')\n",
    "print(df.columns)\n",
    "if 'table' in df.columns and 'technology' in df.columns:\n",
    "    correlation_coefficient = df['table'].corr(df['technology'])\n",
    "    print(\"Correlation coefficient between 'table' and 'technology':\", correlation_coefficient)\n",
    "else:\n",
    "    print(\"Columns 'table' and 'technology' not found in the DataFrame.\")\n"
   ]
  },
  {
   "cell_type": "markdown",
   "id": "aee317f9-be8a-42b3-8d83-6f4600d05d8d",
   "metadata": {},
   "source": [
    "Question 23.  Describe the characteristics of data that make a bar chart suitable for visualization. "
   ]
  },
  {
   "cell_type": "markdown",
   "id": "50384ea1-322a-4c05-bd35-98016c7ed885",
   "metadata": {},
   "source": [
    " Bar chart being more suitable allows for viewers to visualize and conceptualize the data provided to them. It's clearly outlines each data set to alllow viewers to analyze the data infront of them. "
   ]
  },
  {
   "cell_type": "markdown",
   "id": "4d72a494-edec-4568-a838-b4fc28a419a8",
   "metadata": {},
   "source": [
    "Question 24: Explain when it is appropriate to use a scatter plot for data exploration. "
   ]
  },
  {
   "cell_type": "markdown",
   "id": "2b1029c2-91bd-442e-b9b8-0b3b53f10598",
   "metadata": {},
   "source": [
    "When data of two variables is being examined and we want to understand if and how they correlate. "
   ]
  },
  {
   "cell_type": "markdown",
   "id": "2f426350-a537-4950-8e42-f0e46279724c",
   "metadata": {},
   "source": [
    "Question 25: Discuss the advantages and disadvantages of using a pie chart for categorical data."
   ]
  },
  {
   "cell_type": "markdown",
   "id": "98c06483-38ae-4d7e-a139-e14662a3f649",
   "metadata": {},
   "source": [
    "Advantages: Simple visuals, chart is outlined, and shows proportions. Disadvantages: Doesn't show trends and is hard to visualize in terms of exact values only estimates. For example, 29.7% might be shown as a smaller value than 29.6% but not noticeable to the human eye. "
   ]
  },
  {
   "cell_type": "markdown",
   "id": "d52063db-dacd-492f-8f28-14b9dfc6fc3b",
   "metadata": {},
   "source": [
    "Question 26: When would you choose a line chart over a histogram for data visualization? "
   ]
  },
  {
   "cell_type": "markdown",
   "id": "4e8ff037-74a9-4d12-b0cb-d5d4f997d20d",
   "metadata": {},
   "source": [
    "If it's data that is linear or has a progression; for instance customer disapproval during election times or times of crisis. "
   ]
  },
  {
   "cell_type": "markdown",
   "id": "e2cb3434-7fd5-470c-b77d-48b5bba64897",
   "metadata": {},
   "source": [
    "Question 27:  Describe a scenario where a table chart is more informative than other chart types."
   ]
  },
  {
   "cell_type": "markdown",
   "id": "054e20b7-7fd4-4c7d-8bb2-bfa05958a511",
   "metadata": {},
   "source": [
    "AA table chart is more informative than other chart types when sorting and filtering data. Customer sevrvice reps, don't need to see all the data from Upper management. "
   ]
  },
  {
   "cell_type": "markdown",
   "id": "6028a3a8-3c2b-4d00-8e06-44c3709b202a",
   "metadata": {},
   "source": [
    "Question 28:  Describe a scenario where a table chart is more informative than other chart types."
   ]
  },
  {
   "cell_type": "markdown",
   "id": "509d290e-9c1c-42f7-8a92-21fff2593504",
   "metadata": {},
   "source": [
    "Junior executve can be tasked with making a presentation to compare customer demand and customer approval rates for certain products. By using a table chart, the other executives can see specific data and that'll allow them to gather information and analyze it together."
   ]
  }
 ],
 "metadata": {
  "kernelspec": {
   "display_name": "Python 3.9 (ZForce101)",
   "language": "python",
   "name": "zforce101"
  },
  "language_info": {
   "codemirror_mode": {
    "name": "ipython",
    "version": 3
   },
   "file_extension": ".py",
   "mimetype": "text/x-python",
   "name": "python",
   "nbconvert_exporter": "python",
   "pygments_lexer": "ipython3",
   "version": "3.9.20"
  }
 },
 "nbformat": 4,
 "nbformat_minor": 5
}
